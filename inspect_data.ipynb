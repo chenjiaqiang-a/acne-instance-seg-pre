{
 "cells": [
  {
   "cell_type": "code",
   "execution_count": null,
   "metadata": {
    "collapsed": false,
    "is_executing": true,
    "jupyter": {
     "outputs_hidden": false
    },
    "tags": []
   },
   "outputs": [],
   "source": [
    "import os\n",
    "import time\n",
    "import tqdm\n",
    "import random\n",
    "import skimage\n",
    "import torch\n",
    "import numpy as np\n",
    "import matplotlib.pyplot as plt\n",
    "from torch.utils.data import DataLoader\n",
    "\n",
    "from config import Config\n",
    "from acne_data import AcneSegDataset, transforms, expand_mask\n",
    "import visualize\n",
    "import utils"
   ]
  },
  {
   "cell_type": "code",
   "execution_count": null,
   "metadata": {
    "collapsed": false,
    "jupyter": {
     "outputs_hidden": false
    }
   },
   "outputs": [],
   "source": [
    "cfg = Config()\n",
    "\n",
    "data_train = AcneSegDataset(cfg.DATA_BASE_DIR, 'train', cfg, transforms(cfg.RGB_MEAN, cfg.RGB_STD, 'train'))\n",
    "\n",
    "# 背景 丘疹 痣 节结\n",
    "# 开口粉刺 闭口粉刺\n",
    "# 萎缩性瘢痕 肥厚性瘢痕\n",
    "# 黄褐斑 脓疱 其它\n",
    "categories = ['BG', 'papule', 'nevus', 'nodule',\n",
    "              'open_comedo', 'closed_comedo',\n",
    "              'atrophic_scar', 'hypertrophic_scar',\n",
    "              'melasma', 'pustule', 'other']\n",
    "category_to_id = {c: i for i, c in enumerate(categories)}"
   ]
  },
  {
   "cell_type": "code",
   "execution_count": null,
   "outputs": [],
   "source": [
    "idx = random.randint(0, len(data_train) - 1)\n",
    "image_patch, image_meta, rpn_matches, rpn_deltas, gt_class_ids, gt_bboxes, gt_masks = data_train[idx]\n",
    "image_meta = image_meta.numpy()\n",
    "img_id = image_meta[0]\n",
    "shape = image_meta[1:4]\n",
    "window = image_meta[-4:]\n",
    "\n",
    "img_obj = data_train.coco.imgs[img_id]\n",
    "img_path = os.path.join(cfg.DATA_BASE_DIR, 'images', img_obj['file_name'])\n",
    "image = skimage.io.imread(img_path)\n",
    "\n",
    "fig = plt.figure(figsize=(6, 8), dpi=100)\n",
    "ax = fig.add_subplot(1, 1, 1)\n",
    "ax.axis('off')\n",
    "ax.imshow(image)\n",
    "win = plt.Rectangle(xy=window[:2], width=window[2]-window[0], height=window[3]-window[1], linewidth=2, edgecolor='r', facecolor='none')\n",
    "ax.add_patch(win)\n",
    "fig.show()"
   ],
   "metadata": {
    "collapsed": false
   }
  },
  {
   "cell_type": "code",
   "execution_count": null,
   "metadata": {
    "tags": []
   },
   "outputs": [],
   "source": [
    "image_patch = image_patch.numpy().transpose((1, 2, 0))\n",
    "image_patch = np.clip(((image_patch*cfg.RGB_STD)+cfg.RGB_MEAN)*255, 0, 255).astype(np.int32)\n",
    "\n",
    "gt_class_ids = gt_class_ids.numpy()\n",
    "gt_bboxes = gt_bboxes.numpy()\n",
    "gt_masks = gt_masks.numpy().transpose((1, 2, 0))\n",
    "idx = np.nonzero(gt_class_ids)[0]\n",
    "gt_class_ids = gt_class_ids[idx]\n",
    "gt_bboxes = gt_bboxes[idx, :]\n",
    "gt_masks = gt_masks[:, :, idx]\n",
    "num_labels = len(idx)\n",
    "\n",
    "if cfg.USE_MINI_MASK:\n",
    "    box = gt_bboxes[0].astype(np.int32)\n",
    "    mask = gt_masks[:, :, 0]\n",
    "\n",
    "    fig = plt.figure(figsize=(9, 3), dpi=100)\n",
    "\n",
    "    ax = fig.add_subplot(1, 3, 1)\n",
    "    ax.axis('off')\n",
    "    ax.imshow(mask)\n",
    "    ax.set_title('Mini Mask')\n",
    "\n",
    "    refind_mask = expand_mask(box, mask, cfg.IMAGE_SHAPE[:2])\n",
    "    image = image_patch[box[1]:box[3], box[0]:box[2], :]\n",
    "    refind_mask = refind_mask[box[1]:box[3], box[0]:box[2]]\n",
    "    mask = np.zeros(refind_mask.shape + (3,))\n",
    "    mask[:, :, 0] = refind_mask\n",
    "    image[mask > 0] = 255\n",
    "\n",
    "    ax = fig.add_subplot(1, 3, 2)\n",
    "    ax.axis('off')\n",
    "    ax.imshow(mask)\n",
    "    ax.set_title('Original Shape')\n",
    "\n",
    "    ax = fig.add_subplot(1, 3, 3)\n",
    "    ax.axis('off')\n",
    "    ax.imshow(image)\n",
    "    ax.set_title('Mask on Image')\n",
    "\n",
    "    fig.show()"
   ]
  },
  {
   "cell_type": "code",
   "execution_count": null,
   "metadata": {
    "collapsed": false,
    "jupyter": {
     "outputs_hidden": false
    }
   },
   "outputs": [],
   "source": [
    "if cfg.USE_MINI_MASK:\n",
    "    refined_masks = np.zeros(cfg.IMAGE_SHAPE[:2] + [num_labels])\n",
    "    for i in range(num_labels):\n",
    "        refined_masks[:, :, i] = expand_mask(gt_bboxes[i], gt_masks[:, :, i], cfg.IMAGE_SHAPE[:2])\n",
    "    gt_masks = refined_masks\n",
    "\n",
    "visualize.display_instances(image_patch, gt_bboxes, gt_masks, gt_class_ids, categories)"
   ]
  },
  {
   "cell_type": "code",
   "execution_count": null,
   "metadata": {
    "collapsed": false,
    "jupyter": {
     "outputs_hidden": false
    },
    "tags": []
   },
   "outputs": [],
   "source": [
    "anchors = utils.generate_pyramid_anchors(cfg.RPN_ANCHOR_SCALES,\n",
    "                                         cfg.RPN_ANCHOR_RATIOS,\n",
    "                                         cfg.BACKBONE_SHAPES,\n",
    "                                         cfg.BACKBONE_STRIDES,\n",
    "                                         cfg.RPN_ANCHOR_STRIDE)\n",
    "rpn_matches = rpn_matches.numpy()\n",
    "idx = np.nonzero(rpn_matches == 1)[0]\n",
    "matched_anchor = anchors[idx]\n",
    "deltas = rpn_deltas.numpy()[:len(idx), :] * cfg.RPN_BBOX_STD_DEV\n",
    "refined_anchors = utils.apply_box_deltas(torch.tensor(matched_anchor),\n",
    "                                        torch.tensor(deltas)).numpy()\n",
    "\n",
    "visualize.draw_boxes(image_patch, boxes=matched_anchor, refined_boxes=refined_anchors)\n"
   ]
  },
  {
   "cell_type": "code",
   "execution_count": null,
   "metadata": {},
   "outputs": [],
   "source": []
  }
 ],
 "metadata": {
  "kernelspec": {
   "display_name": "Python 3 (ipykernel)",
   "language": "python",
   "name": "python3"
  },
  "language_info": {
   "codemirror_mode": {
    "name": "ipython",
    "version": 3
   },
   "file_extension": ".py",
   "mimetype": "text/x-python",
   "name": "python",
   "nbconvert_exporter": "python",
   "pygments_lexer": "ipython3",
   "version": "3.8.10"
  }
 },
 "nbformat": 4,
 "nbformat_minor": 4
}

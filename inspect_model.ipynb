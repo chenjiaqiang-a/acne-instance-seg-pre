{
 "cells": [
  {
   "cell_type": "code",
   "execution_count": null,
   "metadata": {
    "is_executing": true,
    "tags": []
   },
   "outputs": [],
   "source": [
    "import os\n",
    "import random\n",
    "import torch\n",
    "import skimage\n",
    "import numpy as np\n",
    "import matplotlib.pyplot as plt\n",
    "from torchvision import ops\n",
    "\n",
    "from config import Config\n",
    "from model import MaskRCNN\n",
    "from acne_data import AcneSegDataset, transforms, parse_image_metas, expand_mask, seg_to_mask\n",
    "import visualize\n",
    "import utils\n",
    "\n",
    "os.environ['CUDA_VISIBLE_DEVICES'] = '0'\n",
    "\n",
    "MODEL_PATH = '../autodl-tmp/mask-rcnn/resnet101_all_epoch_160.pth'\n",
    "DEVICE = torch.device('cuda:0' if torch.cuda.is_available() else 'cpu')"
   ]
  },
  {
   "cell_type": "code",
   "execution_count": null,
   "metadata": {
    "collapsed": false,
    "jupyter": {
     "outputs_hidden": false
    },
    "tags": []
   },
   "outputs": [],
   "source": [
    "# 背景 丘疹 痣 节结\n",
    "# 开口粉刺 闭口粉刺\n",
    "# 萎缩性瘢痕 肥厚性瘢痕\n",
    "# 黄褐斑 脓疱 其它\n",
    "categories = ['BG', 'papule', 'nevus', 'nodule',\n",
    "              'open_comedo', 'closed_comedo',\n",
    "              'atrophic_scar', 'hypertrophic_scar',\n",
    "              'melasma', 'pustule', 'other']\n",
    "category_to_id = {c: i for i, c in enumerate(categories)}\n",
    "\n",
    "cfg = Config()\n",
    "dataset = AcneSegDataset(cfg.DATA_BASE_DIR, 'test', cfg, transforms(cfg.RGB_MEAN, cfg.RGB_STD, 'test'))\n",
    "\n",
    "mrcnn = MaskRCNN(cfg)\n",
    "mrcnn = mrcnn.to(DEVICE)\n",
    "utils.load_weights(mrcnn, MODEL_PATH)"
   ]
  },
  {
   "cell_type": "code",
   "execution_count": null,
   "metadata": {
    "collapsed": false,
    "jupyter": {
     "outputs_hidden": false
    },
    "tags": []
   },
   "outputs": [],
   "source": [
    "@torch.no_grad()\n",
    "def infer(model, image_patches, image_metas, config):\n",
    "    model.eval()\n",
    "    image_patches = image_patches.to(DEVICE)\n",
    "\n",
    "    patches = image_patches.size(0)\n",
    "    detections, masks = model([image_patches])\n",
    "    bboxes, class_ids, scores = detections[:, :, :4], detections[:, :, 4].long(), detections[:, :, 5]\n",
    "    _, _, windows = parse_image_metas(image_metas)\n",
    "\n",
    "    pred_class_ids = []\n",
    "    pred_scores = []\n",
    "    pred_bboxes = []\n",
    "    pred_masks = []\n",
    "    for i in range(patches):\n",
    "        idx = torch.nonzero(class_ids[i])[:, 0]\n",
    "        p_class_ids = class_ids[i, idx]\n",
    "        p_scores = scores[i, idx]\n",
    "        p_bboxes = bboxes[i, idx]\n",
    "        p_masks = masks[i, idx, p_class_ids]\n",
    "        window = windows[i]\n",
    "\n",
    "        p_bboxes[:, [0, 2]] *= window[2] - window[0]\n",
    "        p_bboxes[:, [1, 3]] *= window[3] - window[1]\n",
    "        p_bboxes[:, [0, 2]] += window[0]\n",
    "        p_bboxes[:, [1, 3]] += window[1]\n",
    "        p_bboxes = p_bboxes.round()\n",
    "\n",
    "        # Filter out detections with zero area. Often only happens in early\n",
    "        # stages of training when the network weights are still a bit random.\n",
    "        areas = (p_bboxes[:, 2] - p_bboxes[:, 0]) * (p_bboxes[:, 3] - p_bboxes[:, 1])\n",
    "        idx = torch.nonzero(areas > 0)[:, 0]\n",
    "        p_class_ids = p_class_ids[idx]\n",
    "        p_scores = p_scores[idx]\n",
    "        p_bboxes = p_bboxes[idx]\n",
    "        p_masks = p_masks[idx]\n",
    "\n",
    "        pred_class_ids.append(p_class_ids.int().cpu().numpy())\n",
    "        pred_scores.append(p_scores)\n",
    "        pred_bboxes.append(p_bboxes)\n",
    "        pred_masks.append(p_masks.cpu().numpy().transpose((1, 2, 0)))\n",
    "    pred_bboxes = torch.cat(pred_bboxes, dim=0)\n",
    "    pred_scores = torch.cat(pred_scores, dim=0)\n",
    "    keep = ops.nms(pred_bboxes, pred_scores, config.DETECTION_NMS_THRESHOLD)\n",
    "    keep = keep.cpu().numpy()\n",
    "\n",
    "    pred_bboxes = pred_bboxes.cpu().numpy()[keep]\n",
    "    pred_scores = pred_scores.cpu().numpy()[keep]\n",
    "    pred_class_ids = np.concatenate(pred_class_ids, axis=0)[keep]\n",
    "    pred_masks = np.concatenate(pred_masks, axis=2)[:, :, keep]\n",
    "\n",
    "    return pred_class_ids, pred_scores, pred_bboxes, pred_masks"
   ]
  },
  {
   "cell_type": "code",
   "execution_count": null,
   "metadata": {
    "tags": []
   },
   "outputs": [],
   "source": [
    "idx = random.randint(0, len(dataset) - 1)\n",
    "image_patches, image_metas = dataset[idx]\n",
    "\n",
    "image_meta = image_metas[0].numpy()\n",
    "img_id = image_meta[0]\n",
    "shape = image_meta[1:4]\n",
    "img_obj = dataset.coco.imgs[img_id]\n",
    "anns = dataset.coco.imgToAnns[img_id]\n",
    "image = skimage.io.imread(os.path.join(cfg.DATA_BASE_DIR, 'images', img_obj['file_name']))\n",
    "gt_class_ids = np.zeros((len(anns),), dtype=int)\n",
    "gt_bboxes = np.zeros((len(anns), 4))\n",
    "gt_masks = np.zeros((shape[0], shape[1], len(anns)))\n",
    "for i, ann in enumerate(anns):\n",
    "    gt_class_ids[i] = ann['category_id']\n",
    "    bbox = ann['bbox']\n",
    "    gt_bboxes[i, :] = np.array([bbox[0], bbox[1], bbox[0] + bbox[2], bbox[1] + bbox[3]])\n",
    "    gt_masks[:, :, i] = seg_to_mask(ann['segmentation'], shape[0], shape[1])\n",
    "\n",
    "fig = plt.figure(figsize=(12, 16), dpi=150)\n",
    "ax = fig.add_subplot(1, 1, 1)\n",
    "visualize.display_instances(image, gt_bboxes, gt_masks, gt_class_ids, categories, ax=ax)"
   ]
  },
  {
   "cell_type": "code",
   "execution_count": null,
   "metadata": {
    "tags": []
   },
   "outputs": [],
   "source": [
    "pred_class_ids, pred_scores, pred_bboxes, pred_masks = infer(mrcnn, image_patches, image_metas, cfg)\n",
    "if cfg.USE_MINI_MASK:\n",
    "    refind_masks = np.zeros((shape[0], shape[1], len(pred_class_ids)))\n",
    "    for i in range(len(pred_class_ids)):\n",
    "        refind_masks[:, :, i] = expand_mask(pred_bboxes[i], pred_masks[:, :, i], shape[:2])\n",
    "    pred_masks = refind_masks\n",
    "\n",
    "fig = plt.figure(figsize=(12, 16), dpi=150)\n",
    "ax = fig.add_subplot(1, 1, 1)\n",
    "visualize.display_instances(image, pred_bboxes[:len(anns)], pred_masks[:,:,:len(anns)], pred_class_ids[:len(anns)], categories, pred_scores[:len(anns)], ax=ax)"
   ]
  },
  {
   "cell_type": "code",
   "execution_count": null,
   "metadata": {
    "collapsed": false,
    "jupyter": {
     "outputs_hidden": false
    }
   },
   "outputs": [],
   "source": []
  }
 ],
 "metadata": {
  "kernelspec": {
   "display_name": "Python 3 (ipykernel)",
   "language": "python",
   "name": "python3"
  },
  "language_info": {
   "codemirror_mode": {
    "name": "ipython",
    "version": 3
   },
   "file_extension": ".py",
   "mimetype": "text/x-python",
   "name": "python",
   "nbconvert_exporter": "python",
   "pygments_lexer": "ipython3",
   "version": "3.8.10"
  }
 },
 "nbformat": 4,
 "nbformat_minor": 4
}
